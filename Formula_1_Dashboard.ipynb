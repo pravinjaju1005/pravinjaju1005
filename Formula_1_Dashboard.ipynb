{
  "nbformat": 4,
  "nbformat_minor": 0,
  "metadata": {
    "colab": {
      "provenance": [],
      "authorship_tag": "ABX9TyMC0h2Gq8QlhKBKibPWcBAN"
    },
    "kernelspec": {
      "name": "python3",
      "display_name": "Python 3"
    },
    "language_info": {
      "name": "python"
    }
  },
  "cells": [
    {
      "cell_type": "code",
      "source": [
        "!pip install -q pandasql\n",
        "!pip install -q gspread\n",
        "!pip install -q gspread-dataframe"
      ],
      "metadata": {
        "id": "HTrE50VGJ6M-"
      },
      "execution_count": 1,
      "outputs": []
    },
    {
      "cell_type": "code",
      "source": [
        "import pandas as pd\n",
        "from pandasql import sqldf\n",
        "import requests\n",
        "from datetime import datetime, timedelta, timezone"
      ],
      "metadata": {
        "id": "ceNjjEFEJ_OY"
      },
      "execution_count": 2,
      "outputs": []
    },
    {
      "cell_type": "code",
      "source": [
        "from google.colab import auth\n",
        "auth.authenticate_user()\n",
        "\n",
        "import gspread\n",
        "from google.auth import default\n",
        "creds, _ = default()\n",
        "gc = gspread.authorize(creds)"
      ],
      "metadata": {
        "id": "T0C-rbrAnq5R"
      },
      "execution_count": 3,
      "outputs": []
    },
    {
      "cell_type": "code",
      "source": [
        "# Fetching F1 Data\n",
        "def fetch_data_to_dataframe(url: str, df_name: str = \"data\") -> pd.DataFrame:\n",
        "\n",
        "    print(f\"Attempting to fetch {df_name} from: {url}\")\n",
        "    try:\n",
        "        response = requests.get(url)\n",
        "        response.raise_for_status()  # Raises an HTTPError for bad responses (4xx or 5xx)\n",
        "        fetched_data = response.json()\n",
        "\n",
        "        if fetched_data:\n",
        "            df = pd.DataFrame(fetched_data)\n",
        "            print(f\"Successfully fetched {len(df)} rows for {df_name}.\")\n",
        "            return df\n",
        "        else:\n",
        "            print(f\"No data found for {df_name} from the provided URL.\")\n",
        "            return pd.DataFrame()  # Return an empty DataFrame\n",
        "    except requests.exceptions.RequestException as e:\n",
        "        print(f\"Error fetching {df_name} from {url}: {e}\")\n",
        "        return pd.DataFrame()  # Return an empty DataFrame on any request error"
      ],
      "metadata": {
        "id": "NNwl4PNHHoP-"
      },
      "execution_count": 4,
      "outputs": []
    },
    {
      "cell_type": "code",
      "source": [
        "# Fetching F1 Data Without Print\n",
        "def fetch_data_to_dataframe_wp(url: str, df_name: str = \"data\") -> pd.DataFrame:\n",
        "\n",
        "    # print(f\"Attempting to fetch {df_name} from: {url}\")\n",
        "    try:\n",
        "        response = requests.get(url)\n",
        "        response.raise_for_status()  # Raises an HTTPError for bad responses (4xx or 5xx)\n",
        "        fetched_data = response.json()\n",
        "\n",
        "        if fetched_data:\n",
        "            df = pd.DataFrame(fetched_data)\n",
        "            # print(f\"Successfully fetched {len(df)} rows for {df_name}.\")\n",
        "            return df\n",
        "        else:\n",
        "            print(f\"No data found for {df_name} from the provided URL.\")\n",
        "            return pd.DataFrame()  # Return an empty DataFrame\n",
        "    except requests.exceptions.RequestException as e:\n",
        "        print(f\"Error fetching {df_name} from {url}: {e}\")\n",
        "        return pd.DataFrame()  # Return an empty DataFrame on any request error"
      ],
      "metadata": {
        "id": "47JZY7gbhHsD"
      },
      "execution_count": 5,
      "outputs": []
    },
    {
      "cell_type": "code",
      "source": [
        "## URL to be fetched\n",
        "# Fetching sessions for a specific year\n",
        "year_to_fetch = 2024\n",
        "\n",
        "sessions_url = f\"https://api.openf1.org/v1/sessions?year={year_to_fetch}\"\n",
        "meetings_url = f\"https://api.openf1.org/v1/meetings?year={year_to_fetch}\"\n",
        "drivers_url = \"https://api.openf1.org/v1/drivers\""
      ],
      "metadata": {
        "id": "_ecFus7zO_uu"
      },
      "execution_count": 6,
      "outputs": []
    },
    {
      "cell_type": "code",
      "source": [
        "# Fetching Data\n",
        "\n",
        "sessions_df = fetch_data_to_dataframe(sessions_url, df_name=f\"sessions for {year_to_fetch}\")\n",
        "meetings_df = fetch_data_to_dataframe(meetings_url, df_name=f\"sessions for {year_to_fetch}\")\n",
        "drivers_df = fetch_data_to_dataframe(drivers_url, df_name=\"all drivers\")\n",
        "race_sessions = sessions_df[sessions_df['session_type'] == 'Race']"
      ],
      "metadata": {
        "id": "Jl3u0GTSICaW",
        "colab": {
          "base_uri": "https://localhost:8080/"
        },
        "outputId": "eb88b611-0e0d-440a-cabe-c19cd447ca4f"
      },
      "execution_count": 7,
      "outputs": [
        {
          "output_type": "stream",
          "name": "stdout",
          "text": [
            "Attempting to fetch sessions for 2024 from: https://api.openf1.org/v1/sessions?year=2024\n",
            "Successfully fetched 123 rows for sessions for 2024.\n",
            "Attempting to fetch sessions for 2024 from: https://api.openf1.org/v1/meetings?year=2024\n",
            "Successfully fetched 25 rows for sessions for 2024.\n",
            "Attempting to fetch all drivers from: https://api.openf1.org/v1/drivers\n",
            "Successfully fetched 5918 rows for all drivers.\n"
          ]
        }
      ]
    },
    {
      "cell_type": "markdown",
      "source": [
        "## Fragmented Datasets"
      ],
      "metadata": {
        "id": "3QHulS1vd8rp"
      }
    },
    {
      "cell_type": "code",
      "source": [
        "# Laps Data\n",
        "\n",
        "all_laps = []\n",
        "\n",
        "for idx, row in race_sessions.iterrows():\n",
        "    session_key = row['session_key']\n",
        "    laps_url = f\"https://api.openf1.org/v1/laps?session_key={session_key}\"\n",
        "\n",
        "    # print(f\"Fetching laps for session {session_key}...\")\n",
        "\n",
        "    laps = fetch_data_to_dataframe_wp(laps_url, df_name=f\"laps in session {session_key}\")\n",
        "\n",
        "    if laps is not None and not laps.empty:\n",
        "        laps['session_key'] = session_key  # Optional: keep track of session\n",
        "        all_laps.append(laps)\n",
        "\n",
        "# Concatenate all laps into one DataFrame\n",
        "if all_laps:\n",
        "    laps_df = pd.concat(all_laps, ignore_index=True)\n",
        "    print(f\"Total laps collected: {len(laps_df)}\")\n",
        "else:\n",
        "    laps_df = pd.DataFrame()\n",
        "    print(\"No laps data found for the selected year.\")\n",
        "\n",
        "\n",
        "# Create a copy of laps_df without the problematic list columns\n",
        "laps_df_sql = laps_df.drop(columns=['segments_sector_1', 'segments_sector_2', 'segments_sector_3'], errors='ignore')"
      ],
      "metadata": {
        "id": "LH6ehz90ICeF",
        "colab": {
          "base_uri": "https://localhost:8080/"
        },
        "outputId": "a3dbbaff-bcc9-4f3d-df7d-709105ed9914"
      },
      "execution_count": 8,
      "outputs": [
        {
          "output_type": "stream",
          "name": "stdout",
          "text": [
            "Total laps collected: 29031\n"
          ]
        }
      ]
    },
    {
      "cell_type": "code",
      "source": [
        "# Session Results\n",
        "all_results = []\n",
        "\n",
        "for idx, row in race_sessions.iterrows():\n",
        "    session_key = row['session_key']\n",
        "    result_url = f\"https://api.openf1.org/v1/session_result?session_key={session_key}\"\n",
        "\n",
        "    # print(f\"Fetching session result for session {session_key}...\")\n",
        "\n",
        "    result = fetch_data_to_dataframe_wp(result_url, df_name=f\"result in session {session_key}\")\n",
        "\n",
        "    if result is not None and not result.empty:\n",
        "        result['session_key'] = session_key  # Optional: keep track of session\n",
        "        all_results.append(result)\n",
        "\n",
        "# Concatenate all results into one DataFrame\n",
        "if all_results:\n",
        "    session_results_df = pd.concat(all_results, ignore_index=True)\n",
        "    print(f\"Total session result rows collected: {len(session_results_df)}\")\n",
        "else:\n",
        "    session_results_df = pd.DataFrame()\n",
        "    print(\"No session result data found for the selected year.\")"
      ],
      "metadata": {
        "id": "ciygDiq1ICfx",
        "colab": {
          "base_uri": "https://localhost:8080/"
        },
        "outputId": "88005494-cd6c-4e9c-a0af-459ef30ed709"
      },
      "execution_count": 9,
      "outputs": [
        {
          "output_type": "stream",
          "name": "stdout",
          "text": [
            "Error fetching result in session 9549 from https://api.openf1.org/v1/session_result?session_key=9549: 429 Client Error: Too Many Requests for url: https://api.openf1.org/v1/session_result?session_key=9549\n",
            "Error fetching result in session 9582 from https://api.openf1.org/v1/session_result?session_key=9582: 429 Client Error: Too Many Requests for url: https://api.openf1.org/v1/session_result?session_key=9582\n",
            "Error fetching result in session 9598 from https://api.openf1.org/v1/session_result?session_key=9598: 429 Client Error: Too Many Requests for url: https://api.openf1.org/v1/session_result?session_key=9598\n",
            "Error fetching result in session 9644 from https://api.openf1.org/v1/session_result?session_key=9644: 429 Client Error: Too Many Requests for url: https://api.openf1.org/v1/session_result?session_key=9644\n",
            "Error fetching result in session 9655 from https://api.openf1.org/v1/session_result?session_key=9655: 429 Client Error: Too Many Requests for url: https://api.openf1.org/v1/session_result?session_key=9655\n",
            "Total session result rows collected: 499\n"
          ]
        }
      ]
    },
    {
      "cell_type": "code",
      "source": [
        "# Starting Grid Data\n",
        "all_grids = []\n",
        "\n",
        "for idx, row in race_sessions.iterrows():\n",
        "    session_key = row['session_key']\n",
        "    grid_url = f\"https://api.openf1.org/v1/starting_grid?session_key={session_key}\"\n",
        "\n",
        "    # print(f\"Fetching starting grid for session {session_key}...\")\n",
        "\n",
        "    grid = fetch_data_to_dataframe_wp(grid_url, df_name=f\"starting grid in session {session_key}\")\n",
        "\n",
        "    if grid is not None and not grid.empty:\n",
        "        grid['session_key'] = session_key  # Optional: track session\n",
        "        all_grids.append(grid)\n",
        "\n",
        "# Concatenate all grids into one DataFrame\n",
        "if all_grids:\n",
        "    starting_grid_df = pd.concat(all_grids, ignore_index=True)\n",
        "    print(f\"Total starting grid rows collected: {len(starting_grid_df)}\")\n",
        "else:\n",
        "    starting_grid_df = pd.DataFrame()\n",
        "    print(\"No starting grid data found for the selected year.\")"
      ],
      "metadata": {
        "colab": {
          "base_uri": "https://localhost:8080/"
        },
        "id": "1v6SVdG0evwH",
        "outputId": "9e339192-a46c-406b-86f7-ded36baed987"
      },
      "execution_count": 10,
      "outputs": [
        {
          "output_type": "stream",
          "name": "stdout",
          "text": [
            "Error fetching starting grid in session 9472 from https://api.openf1.org/v1/starting_grid?session_key=9472: 429 Client Error: Too Many Requests for url: https://api.openf1.org/v1/starting_grid?session_key=9472\n",
            "Error fetching starting grid in session 9480 from https://api.openf1.org/v1/starting_grid?session_key=9480: 429 Client Error: Too Many Requests for url: https://api.openf1.org/v1/starting_grid?session_key=9480\n",
            "Error fetching starting grid in session 9488 from https://api.openf1.org/v1/starting_grid?session_key=9488: 429 Client Error: Too Many Requests for url: https://api.openf1.org/v1/starting_grid?session_key=9488\n",
            "Error fetching starting grid in session 9673 from https://api.openf1.org/v1/starting_grid?session_key=9673: 429 Client Error: Too Many Requests for url: https://api.openf1.org/v1/starting_grid?session_key=9673\n",
            "Error fetching starting grid in session 9506 from https://api.openf1.org/v1/starting_grid?session_key=9506: 429 Client Error: Too Many Requests for url: https://api.openf1.org/v1/starting_grid?session_key=9506\n",
            "Error fetching starting grid in session 9507 from https://api.openf1.org/v1/starting_grid?session_key=9507: 429 Client Error: Too Many Requests for url: https://api.openf1.org/v1/starting_grid?session_key=9507\n",
            "Error fetching starting grid in session 9523 from https://api.openf1.org/v1/starting_grid?session_key=9523: 429 Client Error: Too Many Requests for url: https://api.openf1.org/v1/starting_grid?session_key=9523\n",
            "Error fetching starting grid in session 9531 from https://api.openf1.org/v1/starting_grid?session_key=9531: 429 Client Error: Too Many Requests for url: https://api.openf1.org/v1/starting_grid?session_key=9531\n",
            "Error fetching starting grid in session 9539 from https://api.openf1.org/v1/starting_grid?session_key=9539: 429 Client Error: Too Many Requests for url: https://api.openf1.org/v1/starting_grid?session_key=9539\n",
            "Error fetching starting grid in session 9566 from https://api.openf1.org/v1/starting_grid?session_key=9566: 429 Client Error: Too Many Requests for url: https://api.openf1.org/v1/starting_grid?session_key=9566\n",
            "Error fetching starting grid in session 9574 from https://api.openf1.org/v1/starting_grid?session_key=9574: 429 Client Error: Too Many Requests for url: https://api.openf1.org/v1/starting_grid?session_key=9574\n",
            "Error fetching starting grid in session 9582 from https://api.openf1.org/v1/starting_grid?session_key=9582: 429 Client Error: Too Many Requests for url: https://api.openf1.org/v1/starting_grid?session_key=9582\n",
            "Error fetching starting grid in session 9598 from https://api.openf1.org/v1/starting_grid?session_key=9598: 429 Client Error: Too Many Requests for url: https://api.openf1.org/v1/starting_grid?session_key=9598\n",
            "Error fetching starting grid in session 9616 from https://api.openf1.org/v1/starting_grid?session_key=9616: 429 Client Error: Too Many Requests for url: https://api.openf1.org/v1/starting_grid?session_key=9616\n",
            "Error fetching starting grid in session 9625 from https://api.openf1.org/v1/starting_grid?session_key=9625: 429 Client Error: Too Many Requests for url: https://api.openf1.org/v1/starting_grid?session_key=9625\n",
            "Error fetching starting grid in session 9644 from https://api.openf1.org/v1/starting_grid?session_key=9644: 429 Client Error: Too Many Requests for url: https://api.openf1.org/v1/starting_grid?session_key=9644\n",
            "Error fetching starting grid in session 9654 from https://api.openf1.org/v1/starting_grid?session_key=9654: 429 Client Error: Too Many Requests for url: https://api.openf1.org/v1/starting_grid?session_key=9654\n",
            "Error fetching starting grid in session 9655 from https://api.openf1.org/v1/starting_grid?session_key=9655: 429 Client Error: Too Many Requests for url: https://api.openf1.org/v1/starting_grid?session_key=9655\n",
            "Total starting grid rows collected: 240\n"
          ]
        }
      ]
    },
    {
      "cell_type": "code",
      "source": [
        "# Loop through each race session, fetch stints data, and store into stints_df\n",
        "all_stints = []\n",
        "\n",
        "for idx, row in race_sessions.iterrows():\n",
        "    session_key = row['session_key']\n",
        "    stints_url = f\"https://api.openf1.org/v1/stints?session_key={session_key}\"\n",
        "\n",
        "    # print(f\"Fetching stints for session {session_key}...\")\n",
        "\n",
        "    stints = fetch_data_to_dataframe_wp(stints_url, df_name=f\"stints in session {session_key}\")\n",
        "\n",
        "    if stints is not None and not stints.empty:\n",
        "        stints['session_key'] = session_key  # Optional: keep track of session\n",
        "        all_stints.append(stints)\n",
        "\n",
        "# Concatenate all stints into one DataFrame\n",
        "if all_stints:\n",
        "    stints_df = pd.concat(all_stints, ignore_index=True)\n",
        "    print(f\"Total stints collected: {len(stints_df)}\")\n",
        "else:\n",
        "    stints_df = pd.DataFrame()\n",
        "    print(\"No stints data found for the selected year.\")"
      ],
      "metadata": {
        "colab": {
          "base_uri": "https://localhost:8080/"
        },
        "id": "vZg_ZOPMuZo2",
        "outputId": "3a744995-dff3-4522-8ba1-ec207c83d006"
      },
      "execution_count": 11,
      "outputs": [
        {
          "output_type": "stream",
          "name": "stdout",
          "text": [
            "Error fetching stints in session 9480 from https://api.openf1.org/v1/stints?session_key=9480: 429 Client Error: Too Many Requests for url: https://api.openf1.org/v1/stints?session_key=9480\n",
            "Error fetching stints in session 9488 from https://api.openf1.org/v1/stints?session_key=9488: 429 Client Error: Too Many Requests for url: https://api.openf1.org/v1/stints?session_key=9488\n",
            "Error fetching stints in session 9496 from https://api.openf1.org/v1/stints?session_key=9496: 429 Client Error: Too Many Requests for url: https://api.openf1.org/v1/stints?session_key=9496\n",
            "Error fetching stints in session 9672 from https://api.openf1.org/v1/stints?session_key=9672: 429 Client Error: Too Many Requests for url: https://api.openf1.org/v1/stints?session_key=9672\n",
            "Error fetching stints in session 9507 from https://api.openf1.org/v1/stints?session_key=9507: 429 Client Error: Too Many Requests for url: https://api.openf1.org/v1/stints?session_key=9507\n",
            "Error fetching stints in session 9558 from https://api.openf1.org/v1/stints?session_key=9558: 429 Client Error: Too Many Requests for url: https://api.openf1.org/v1/stints?session_key=9558\n",
            "Error fetching stints in session 9566 from https://api.openf1.org/v1/stints?session_key=9566: 429 Client Error: Too Many Requests for url: https://api.openf1.org/v1/stints?session_key=9566\n",
            "Error fetching stints in session 9655 from https://api.openf1.org/v1/stints?session_key=9655: 429 Client Error: Too Many Requests for url: https://api.openf1.org/v1/stints?session_key=9655\n",
            "Total stints collected: 1025\n"
          ]
        }
      ]
    },
    {
      "cell_type": "markdown",
      "source": [
        "## Dataset Joins"
      ],
      "metadata": {
        "id": "yGGTg55LeBro"
      }
    },
    {
      "cell_type": "code",
      "source": [
        "# race_sessions[race_sessions.session_key == 9472]"
      ],
      "metadata": {
        "id": "QDQWlsieix--"
      },
      "execution_count": 12,
      "outputs": []
    },
    {
      "cell_type": "code",
      "source": [
        "# meetings_df[meetings_df.meeting_key == 1229]"
      ],
      "metadata": {
        "id": "ZmRaXIIMlnjU"
      },
      "execution_count": 13,
      "outputs": []
    },
    {
      "cell_type": "code",
      "source": [
        "# laps_df[(laps_df['session_key']==9472)&(laps_df['driver_number']==1)].head(2)"
      ],
      "metadata": {
        "id": "orXTMOCoIClk"
      },
      "execution_count": 14,
      "outputs": []
    },
    {
      "cell_type": "code",
      "source": [
        "session_results_df[(session_results_df.session_key == 9472)&(session_results_df.driver_number == 44)]"
      ],
      "metadata": {
        "colab": {
          "base_uri": "https://localhost:8080/",
          "height": 81
        },
        "id": "z4wt4HUQtocK",
        "outputId": "29fb4337-4e57-47ac-f385-73771a60455a"
      },
      "execution_count": 15,
      "outputs": [
        {
          "output_type": "execute_result",
          "data": {
            "text/plain": [
              "   position  driver_number  number_of_laps time_gap  points  meeting_key  \\\n",
              "15        7             44            57.0   50.324     6.0         1229   \n",
              "\n",
              "    session_key  \n",
              "15         9472  "
            ],
            "text/html": [
              "\n",
              "  <div id=\"df-9b14742e-f585-4c78-903a-7fddf189bd86\" class=\"colab-df-container\">\n",
              "    <div>\n",
              "<style scoped>\n",
              "    .dataframe tbody tr th:only-of-type {\n",
              "        vertical-align: middle;\n",
              "    }\n",
              "\n",
              "    .dataframe tbody tr th {\n",
              "        vertical-align: top;\n",
              "    }\n",
              "\n",
              "    .dataframe thead th {\n",
              "        text-align: right;\n",
              "    }\n",
              "</style>\n",
              "<table border=\"1\" class=\"dataframe\">\n",
              "  <thead>\n",
              "    <tr style=\"text-align: right;\">\n",
              "      <th></th>\n",
              "      <th>position</th>\n",
              "      <th>driver_number</th>\n",
              "      <th>number_of_laps</th>\n",
              "      <th>time_gap</th>\n",
              "      <th>points</th>\n",
              "      <th>meeting_key</th>\n",
              "      <th>session_key</th>\n",
              "    </tr>\n",
              "  </thead>\n",
              "  <tbody>\n",
              "    <tr>\n",
              "      <th>15</th>\n",
              "      <td>7</td>\n",
              "      <td>44</td>\n",
              "      <td>57.0</td>\n",
              "      <td>50.324</td>\n",
              "      <td>6.0</td>\n",
              "      <td>1229</td>\n",
              "      <td>9472</td>\n",
              "    </tr>\n",
              "  </tbody>\n",
              "</table>\n",
              "</div>\n",
              "    <div class=\"colab-df-buttons\">\n",
              "\n",
              "  <div class=\"colab-df-container\">\n",
              "    <button class=\"colab-df-convert\" onclick=\"convertToInteractive('df-9b14742e-f585-4c78-903a-7fddf189bd86')\"\n",
              "            title=\"Convert this dataframe to an interactive table.\"\n",
              "            style=\"display:none;\">\n",
              "\n",
              "  <svg xmlns=\"http://www.w3.org/2000/svg\" height=\"24px\" viewBox=\"0 -960 960 960\">\n",
              "    <path d=\"M120-120v-720h720v720H120Zm60-500h600v-160H180v160Zm220 220h160v-160H400v160Zm0 220h160v-160H400v160ZM180-400h160v-160H180v160Zm440 0h160v-160H620v160ZM180-180h160v-160H180v160Zm440 0h160v-160H620v160Z\"/>\n",
              "  </svg>\n",
              "    </button>\n",
              "\n",
              "  <style>\n",
              "    .colab-df-container {\n",
              "      display:flex;\n",
              "      gap: 12px;\n",
              "    }\n",
              "\n",
              "    .colab-df-convert {\n",
              "      background-color: #E8F0FE;\n",
              "      border: none;\n",
              "      border-radius: 50%;\n",
              "      cursor: pointer;\n",
              "      display: none;\n",
              "      fill: #1967D2;\n",
              "      height: 32px;\n",
              "      padding: 0 0 0 0;\n",
              "      width: 32px;\n",
              "    }\n",
              "\n",
              "    .colab-df-convert:hover {\n",
              "      background-color: #E2EBFA;\n",
              "      box-shadow: 0px 1px 2px rgba(60, 64, 67, 0.3), 0px 1px 3px 1px rgba(60, 64, 67, 0.15);\n",
              "      fill: #174EA6;\n",
              "    }\n",
              "\n",
              "    .colab-df-buttons div {\n",
              "      margin-bottom: 4px;\n",
              "    }\n",
              "\n",
              "    [theme=dark] .colab-df-convert {\n",
              "      background-color: #3B4455;\n",
              "      fill: #D2E3FC;\n",
              "    }\n",
              "\n",
              "    [theme=dark] .colab-df-convert:hover {\n",
              "      background-color: #434B5C;\n",
              "      box-shadow: 0px 1px 3px 1px rgba(0, 0, 0, 0.15);\n",
              "      filter: drop-shadow(0px 1px 2px rgba(0, 0, 0, 0.3));\n",
              "      fill: #FFFFFF;\n",
              "    }\n",
              "  </style>\n",
              "\n",
              "    <script>\n",
              "      const buttonEl =\n",
              "        document.querySelector('#df-9b14742e-f585-4c78-903a-7fddf189bd86 button.colab-df-convert');\n",
              "      buttonEl.style.display =\n",
              "        google.colab.kernel.accessAllowed ? 'block' : 'none';\n",
              "\n",
              "      async function convertToInteractive(key) {\n",
              "        const element = document.querySelector('#df-9b14742e-f585-4c78-903a-7fddf189bd86');\n",
              "        const dataTable =\n",
              "          await google.colab.kernel.invokeFunction('convertToInteractive',\n",
              "                                                    [key], {});\n",
              "        if (!dataTable) return;\n",
              "\n",
              "        const docLinkHtml = 'Like what you see? Visit the ' +\n",
              "          '<a target=\"_blank\" href=https://colab.research.google.com/notebooks/data_table.ipynb>data table notebook</a>'\n",
              "          + ' to learn more about interactive tables.';\n",
              "        element.innerHTML = '';\n",
              "        dataTable['output_type'] = 'display_data';\n",
              "        await google.colab.output.renderOutput(dataTable, element);\n",
              "        const docLink = document.createElement('div');\n",
              "        docLink.innerHTML = docLinkHtml;\n",
              "        element.appendChild(docLink);\n",
              "      }\n",
              "    </script>\n",
              "  </div>\n",
              "\n",
              "\n",
              "    </div>\n",
              "  </div>\n"
            ],
            "application/vnd.google.colaboratory.intrinsic+json": {
              "type": "dataframe",
              "repr_error": "0"
            }
          },
          "metadata": {},
          "execution_count": 15
        }
      ]
    },
    {
      "cell_type": "code",
      "source": [
        "import math\n",
        "\n",
        "def format_lap_duration(seconds):\n",
        "    if seconds is None or (isinstance(seconds, float) and math.isnan(seconds)):\n",
        "        return None  # or return 'N/A' if you prefer a string\n",
        "\n",
        "    minutes, sec = divmod(seconds, 60)\n",
        "    sec_int = int(sec)\n",
        "    milliseconds = int(round((sec - sec_int) * 1000))\n",
        "\n",
        "    return f\"{int(minutes)}:{sec_int:02d}.{milliseconds:03d}\"\n",
        "\n",
        "laps_df_sql['lap_duration_formatted'] = laps_df_sql['lap_duration'].apply(format_lap_duration)"
      ],
      "metadata": {
        "id": "G9npCf91qZt8"
      },
      "execution_count": 16,
      "outputs": []
    },
    {
      "cell_type": "code",
      "source": [
        "# Function to run SQL queries\n",
        "pysqldf = lambda q: sqldf(q, globals())\n",
        "\n",
        "# Laps for each session\n",
        "query1 = \"\"\"\n",
        "SELECT\n",
        "    md.meeting_name,\n",
        "    ld.driver_number,\n",
        "    dr.full_name,\n",
        "    ld.lap_number,\n",
        "    ld.lap_duration,\n",
        "    ld.lap_duration_formatted\n",
        "\n",
        "FROM race_sessions AS rs\n",
        "JOIN meetings_df AS md\n",
        "  ON md.meeting_key = rs.meeting_key\n",
        "JOIN laps_df_sql AS ld\n",
        "  ON ld.session_key = rs.session_key\n",
        "JOIN drivers_df AS dr\n",
        "  ON dr.driver_number = ld.driver_number\n",
        "  AND dr.session_key = ld.session_key\n",
        "\"\"\"\n",
        "\n",
        "laps_with_sessions = pysqldf(query1)"
      ],
      "metadata": {
        "id": "WF0Zo9kEICp6"
      },
      "execution_count": 17,
      "outputs": []
    },
    {
      "cell_type": "code",
      "source": [
        "laps_with_sessions.head()"
      ],
      "metadata": {
        "colab": {
          "base_uri": "https://localhost:8080/",
          "height": 261
        },
        "id": "wDu8zdMpqCsD",
        "outputId": "f0566822-867b-4f93-dd07-a56c8a6b821e"
      },
      "execution_count": 18,
      "outputs": [
        {
          "output_type": "stream",
          "name": "stderr",
          "text": [
            "/usr/local/lib/python3.11/dist-packages/google/colab/_dataframe_summarizer.py:88: UserWarning: Could not infer format, so each element will be parsed individually, falling back to `dateutil`. To ensure parsing is consistent and as-expected, please specify a format.\n",
            "  cast_date_col = pd.to_datetime(column, errors=\"coerce\")\n"
          ]
        },
        {
          "output_type": "execute_result",
          "data": {
            "text/plain": [
              "         meeting_name  driver_number       full_name  lap_number  \\\n",
              "0  Bahrain Grand Prix              1  Max VERSTAPPEN           1   \n",
              "1  Bahrain Grand Prix              1  Max VERSTAPPEN           2   \n",
              "2  Bahrain Grand Prix              1  Max VERSTAPPEN           3   \n",
              "3  Bahrain Grand Prix              1  Max VERSTAPPEN           4   \n",
              "4  Bahrain Grand Prix              1  Max VERSTAPPEN           5   \n",
              "\n",
              "   lap_duration lap_duration_formatted  \n",
              "0           NaN                   None  \n",
              "1        96.296               1:36.296  \n",
              "2        96.753               1:36.753  \n",
              "3        96.647               1:36.647  \n",
              "4        97.173               1:37.173  "
            ],
            "text/html": [
              "\n",
              "  <div id=\"df-5cfa7a2d-a390-4059-bb54-b1f821d23921\" class=\"colab-df-container\">\n",
              "    <div>\n",
              "<style scoped>\n",
              "    .dataframe tbody tr th:only-of-type {\n",
              "        vertical-align: middle;\n",
              "    }\n",
              "\n",
              "    .dataframe tbody tr th {\n",
              "        vertical-align: top;\n",
              "    }\n",
              "\n",
              "    .dataframe thead th {\n",
              "        text-align: right;\n",
              "    }\n",
              "</style>\n",
              "<table border=\"1\" class=\"dataframe\">\n",
              "  <thead>\n",
              "    <tr style=\"text-align: right;\">\n",
              "      <th></th>\n",
              "      <th>meeting_name</th>\n",
              "      <th>driver_number</th>\n",
              "      <th>full_name</th>\n",
              "      <th>lap_number</th>\n",
              "      <th>lap_duration</th>\n",
              "      <th>lap_duration_formatted</th>\n",
              "    </tr>\n",
              "  </thead>\n",
              "  <tbody>\n",
              "    <tr>\n",
              "      <th>0</th>\n",
              "      <td>Bahrain Grand Prix</td>\n",
              "      <td>1</td>\n",
              "      <td>Max VERSTAPPEN</td>\n",
              "      <td>1</td>\n",
              "      <td>NaN</td>\n",
              "      <td>None</td>\n",
              "    </tr>\n",
              "    <tr>\n",
              "      <th>1</th>\n",
              "      <td>Bahrain Grand Prix</td>\n",
              "      <td>1</td>\n",
              "      <td>Max VERSTAPPEN</td>\n",
              "      <td>2</td>\n",
              "      <td>96.296</td>\n",
              "      <td>1:36.296</td>\n",
              "    </tr>\n",
              "    <tr>\n",
              "      <th>2</th>\n",
              "      <td>Bahrain Grand Prix</td>\n",
              "      <td>1</td>\n",
              "      <td>Max VERSTAPPEN</td>\n",
              "      <td>3</td>\n",
              "      <td>96.753</td>\n",
              "      <td>1:36.753</td>\n",
              "    </tr>\n",
              "    <tr>\n",
              "      <th>3</th>\n",
              "      <td>Bahrain Grand Prix</td>\n",
              "      <td>1</td>\n",
              "      <td>Max VERSTAPPEN</td>\n",
              "      <td>4</td>\n",
              "      <td>96.647</td>\n",
              "      <td>1:36.647</td>\n",
              "    </tr>\n",
              "    <tr>\n",
              "      <th>4</th>\n",
              "      <td>Bahrain Grand Prix</td>\n",
              "      <td>1</td>\n",
              "      <td>Max VERSTAPPEN</td>\n",
              "      <td>5</td>\n",
              "      <td>97.173</td>\n",
              "      <td>1:37.173</td>\n",
              "    </tr>\n",
              "  </tbody>\n",
              "</table>\n",
              "</div>\n",
              "    <div class=\"colab-df-buttons\">\n",
              "\n",
              "  <div class=\"colab-df-container\">\n",
              "    <button class=\"colab-df-convert\" onclick=\"convertToInteractive('df-5cfa7a2d-a390-4059-bb54-b1f821d23921')\"\n",
              "            title=\"Convert this dataframe to an interactive table.\"\n",
              "            style=\"display:none;\">\n",
              "\n",
              "  <svg xmlns=\"http://www.w3.org/2000/svg\" height=\"24px\" viewBox=\"0 -960 960 960\">\n",
              "    <path d=\"M120-120v-720h720v720H120Zm60-500h600v-160H180v160Zm220 220h160v-160H400v160Zm0 220h160v-160H400v160ZM180-400h160v-160H180v160Zm440 0h160v-160H620v160ZM180-180h160v-160H180v160Zm440 0h160v-160H620v160Z\"/>\n",
              "  </svg>\n",
              "    </button>\n",
              "\n",
              "  <style>\n",
              "    .colab-df-container {\n",
              "      display:flex;\n",
              "      gap: 12px;\n",
              "    }\n",
              "\n",
              "    .colab-df-convert {\n",
              "      background-color: #E8F0FE;\n",
              "      border: none;\n",
              "      border-radius: 50%;\n",
              "      cursor: pointer;\n",
              "      display: none;\n",
              "      fill: #1967D2;\n",
              "      height: 32px;\n",
              "      padding: 0 0 0 0;\n",
              "      width: 32px;\n",
              "    }\n",
              "\n",
              "    .colab-df-convert:hover {\n",
              "      background-color: #E2EBFA;\n",
              "      box-shadow: 0px 1px 2px rgba(60, 64, 67, 0.3), 0px 1px 3px 1px rgba(60, 64, 67, 0.15);\n",
              "      fill: #174EA6;\n",
              "    }\n",
              "\n",
              "    .colab-df-buttons div {\n",
              "      margin-bottom: 4px;\n",
              "    }\n",
              "\n",
              "    [theme=dark] .colab-df-convert {\n",
              "      background-color: #3B4455;\n",
              "      fill: #D2E3FC;\n",
              "    }\n",
              "\n",
              "    [theme=dark] .colab-df-convert:hover {\n",
              "      background-color: #434B5C;\n",
              "      box-shadow: 0px 1px 3px 1px rgba(0, 0, 0, 0.15);\n",
              "      filter: drop-shadow(0px 1px 2px rgba(0, 0, 0, 0.3));\n",
              "      fill: #FFFFFF;\n",
              "    }\n",
              "  </style>\n",
              "\n",
              "    <script>\n",
              "      const buttonEl =\n",
              "        document.querySelector('#df-5cfa7a2d-a390-4059-bb54-b1f821d23921 button.colab-df-convert');\n",
              "      buttonEl.style.display =\n",
              "        google.colab.kernel.accessAllowed ? 'block' : 'none';\n",
              "\n",
              "      async function convertToInteractive(key) {\n",
              "        const element = document.querySelector('#df-5cfa7a2d-a390-4059-bb54-b1f821d23921');\n",
              "        const dataTable =\n",
              "          await google.colab.kernel.invokeFunction('convertToInteractive',\n",
              "                                                    [key], {});\n",
              "        if (!dataTable) return;\n",
              "\n",
              "        const docLinkHtml = 'Like what you see? Visit the ' +\n",
              "          '<a target=\"_blank\" href=https://colab.research.google.com/notebooks/data_table.ipynb>data table notebook</a>'\n",
              "          + ' to learn more about interactive tables.';\n",
              "        element.innerHTML = '';\n",
              "        dataTable['output_type'] = 'display_data';\n",
              "        await google.colab.output.renderOutput(dataTable, element);\n",
              "        const docLink = document.createElement('div');\n",
              "        docLink.innerHTML = docLinkHtml;\n",
              "        element.appendChild(docLink);\n",
              "      }\n",
              "    </script>\n",
              "  </div>\n",
              "\n",
              "\n",
              "    <div id=\"df-95dfc4f3-a397-4e71-8cfe-e73b7c88995e\">\n",
              "      <button class=\"colab-df-quickchart\" onclick=\"quickchart('df-95dfc4f3-a397-4e71-8cfe-e73b7c88995e')\"\n",
              "                title=\"Suggest charts\"\n",
              "                style=\"display:none;\">\n",
              "\n",
              "<svg xmlns=\"http://www.w3.org/2000/svg\" height=\"24px\"viewBox=\"0 0 24 24\"\n",
              "     width=\"24px\">\n",
              "    <g>\n",
              "        <path d=\"M19 3H5c-1.1 0-2 .9-2 2v14c0 1.1.9 2 2 2h14c1.1 0 2-.9 2-2V5c0-1.1-.9-2-2-2zM9 17H7v-7h2v7zm4 0h-2V7h2v10zm4 0h-2v-4h2v4z\"/>\n",
              "    </g>\n",
              "</svg>\n",
              "      </button>\n",
              "\n",
              "<style>\n",
              "  .colab-df-quickchart {\n",
              "      --bg-color: #E8F0FE;\n",
              "      --fill-color: #1967D2;\n",
              "      --hover-bg-color: #E2EBFA;\n",
              "      --hover-fill-color: #174EA6;\n",
              "      --disabled-fill-color: #AAA;\n",
              "      --disabled-bg-color: #DDD;\n",
              "  }\n",
              "\n",
              "  [theme=dark] .colab-df-quickchart {\n",
              "      --bg-color: #3B4455;\n",
              "      --fill-color: #D2E3FC;\n",
              "      --hover-bg-color: #434B5C;\n",
              "      --hover-fill-color: #FFFFFF;\n",
              "      --disabled-bg-color: #3B4455;\n",
              "      --disabled-fill-color: #666;\n",
              "  }\n",
              "\n",
              "  .colab-df-quickchart {\n",
              "    background-color: var(--bg-color);\n",
              "    border: none;\n",
              "    border-radius: 50%;\n",
              "    cursor: pointer;\n",
              "    display: none;\n",
              "    fill: var(--fill-color);\n",
              "    height: 32px;\n",
              "    padding: 0;\n",
              "    width: 32px;\n",
              "  }\n",
              "\n",
              "  .colab-df-quickchart:hover {\n",
              "    background-color: var(--hover-bg-color);\n",
              "    box-shadow: 0 1px 2px rgba(60, 64, 67, 0.3), 0 1px 3px 1px rgba(60, 64, 67, 0.15);\n",
              "    fill: var(--button-hover-fill-color);\n",
              "  }\n",
              "\n",
              "  .colab-df-quickchart-complete:disabled,\n",
              "  .colab-df-quickchart-complete:disabled:hover {\n",
              "    background-color: var(--disabled-bg-color);\n",
              "    fill: var(--disabled-fill-color);\n",
              "    box-shadow: none;\n",
              "  }\n",
              "\n",
              "  .colab-df-spinner {\n",
              "    border: 2px solid var(--fill-color);\n",
              "    border-color: transparent;\n",
              "    border-bottom-color: var(--fill-color);\n",
              "    animation:\n",
              "      spin 1s steps(1) infinite;\n",
              "  }\n",
              "\n",
              "  @keyframes spin {\n",
              "    0% {\n",
              "      border-color: transparent;\n",
              "      border-bottom-color: var(--fill-color);\n",
              "      border-left-color: var(--fill-color);\n",
              "    }\n",
              "    20% {\n",
              "      border-color: transparent;\n",
              "      border-left-color: var(--fill-color);\n",
              "      border-top-color: var(--fill-color);\n",
              "    }\n",
              "    30% {\n",
              "      border-color: transparent;\n",
              "      border-left-color: var(--fill-color);\n",
              "      border-top-color: var(--fill-color);\n",
              "      border-right-color: var(--fill-color);\n",
              "    }\n",
              "    40% {\n",
              "      border-color: transparent;\n",
              "      border-right-color: var(--fill-color);\n",
              "      border-top-color: var(--fill-color);\n",
              "    }\n",
              "    60% {\n",
              "      border-color: transparent;\n",
              "      border-right-color: var(--fill-color);\n",
              "    }\n",
              "    80% {\n",
              "      border-color: transparent;\n",
              "      border-right-color: var(--fill-color);\n",
              "      border-bottom-color: var(--fill-color);\n",
              "    }\n",
              "    90% {\n",
              "      border-color: transparent;\n",
              "      border-bottom-color: var(--fill-color);\n",
              "    }\n",
              "  }\n",
              "</style>\n",
              "\n",
              "      <script>\n",
              "        async function quickchart(key) {\n",
              "          const quickchartButtonEl =\n",
              "            document.querySelector('#' + key + ' button');\n",
              "          quickchartButtonEl.disabled = true;  // To prevent multiple clicks.\n",
              "          quickchartButtonEl.classList.add('colab-df-spinner');\n",
              "          try {\n",
              "            const charts = await google.colab.kernel.invokeFunction(\n",
              "                'suggestCharts', [key], {});\n",
              "          } catch (error) {\n",
              "            console.error('Error during call to suggestCharts:', error);\n",
              "          }\n",
              "          quickchartButtonEl.classList.remove('colab-df-spinner');\n",
              "          quickchartButtonEl.classList.add('colab-df-quickchart-complete');\n",
              "        }\n",
              "        (() => {\n",
              "          let quickchartButtonEl =\n",
              "            document.querySelector('#df-95dfc4f3-a397-4e71-8cfe-e73b7c88995e button');\n",
              "          quickchartButtonEl.style.display =\n",
              "            google.colab.kernel.accessAllowed ? 'block' : 'none';\n",
              "        })();\n",
              "      </script>\n",
              "    </div>\n",
              "\n",
              "    </div>\n",
              "  </div>\n"
            ],
            "application/vnd.google.colaboratory.intrinsic+json": {
              "type": "dataframe",
              "variable_name": "laps_with_sessions",
              "summary": "{\n  \"name\": \"laps_with_sessions\",\n  \"rows\": 29031,\n  \"fields\": [\n    {\n      \"column\": \"meeting_name\",\n      \"properties\": {\n        \"dtype\": \"category\",\n        \"num_unique_values\": 24,\n        \"samples\": [\n          \"Canadian Grand Prix\",\n          \"Azerbaijan Grand Prix\",\n          \"Bahrain Grand Prix\"\n        ],\n        \"semantic_type\": \"\",\n        \"description\": \"\"\n      }\n    },\n    {\n      \"column\": \"driver_number\",\n      \"properties\": {\n        \"dtype\": \"number\",\n        \"std\": 23,\n        \"min\": 1,\n        \"max\": 81,\n        \"num_unique_values\": 25,\n        \"samples\": [\n          18,\n          55,\n          1\n        ],\n        \"semantic_type\": \"\",\n        \"description\": \"\"\n      }\n    },\n    {\n      \"column\": \"full_name\",\n      \"properties\": {\n        \"dtype\": \"category\",\n        \"num_unique_values\": 24,\n        \"samples\": [\n          \"Lance STROLL\",\n          \"Carlos SAINZ\",\n          \"Max VERSTAPPEN\"\n        ],\n        \"semantic_type\": \"\",\n        \"description\": \"\"\n      }\n    },\n    {\n      \"column\": \"lap_number\",\n      \"properties\": {\n        \"dtype\": \"number\",\n        \"std\": 18,\n        \"min\": 1,\n        \"max\": 78,\n        \"num_unique_values\": 78,\n        \"samples\": [\n          34,\n          1,\n          35\n        ],\n        \"semantic_type\": \"\",\n        \"description\": \"\"\n      }\n    },\n    {\n      \"column\": \"lap_duration\",\n      \"properties\": {\n        \"dtype\": \"number\",\n        \"std\": 13.91958595643763,\n        \"min\": 67.694,\n        \"max\": 189.083,\n        \"num_unique_values\": 19705,\n        \"samples\": [\n          70.306,\n          98.591,\n          94.962\n        ],\n        \"semantic_type\": \"\",\n        \"description\": \"\"\n      }\n    },\n    {\n      \"column\": \"lap_duration_formatted\",\n      \"properties\": {\n        \"dtype\": \"date\",\n        \"min\": \"2025-07-04 01:07:41\",\n        \"max\": \"2025-07-04 03:09:04\",\n        \"num_unique_values\": 19705,\n        \"samples\": [\n          \"1:10.306\",\n          \"1:38.591\",\n          \"1:34.962\"\n        ],\n        \"semantic_type\": \"\",\n        \"description\": \"\"\n      }\n    }\n  ]\n}"
            }
          },
          "metadata": {},
          "execution_count": 18
        }
      ]
    },
    {
      "cell_type": "code",
      "source": [
        "# # Data for Dashboard\n",
        "# spreadsheet_name = 'laps_with_sessions' # Replace with your sheet's name\n",
        "# worksheet_name = 'Sheet1' # Replace with your desired worksheet name\n",
        "\n",
        "# try:\n",
        "#     sh = gc.open(spreadsheet_name)\n",
        "#     worksheet = sh.worksheet(worksheet_name)\n",
        "# except gspread.exceptions.SpreadsheetNotFound:\n",
        "#     print(f\"Spreadsheet '{spreadsheet_name}' not found. Creating a new spreadsheet.\")\n",
        "#     sh = gc.create(spreadsheet_name)\n",
        "#     # When you create a new spreadsheet, it automatically has a 'Sheet1'.\n",
        "#     # We'll try to get it, or add if for some reason it's not named 'Sheet1' or we want a different name.\n",
        "#     try:\n",
        "#         worksheet = sh.worksheet(worksheet_name)\n",
        "#     except gspread.exceptions.WorksheetNotFound:\n",
        "#         print(f\"Worksheet '{worksheet_name}' not found in new spreadsheet. Creating it.\")\n",
        "#         worksheet = sh.add_worksheet(worksheet_name, rows=\"100\", cols=\"20\") # Adjust rows/cols as needed\n",
        "# except gspread.exceptions.WorksheetNotFound:\n",
        "#     print(f\"Worksheet '{worksheet_name}' not found in '{spreadsheet_name}'. Creating new worksheet.\")\n",
        "#     worksheet = sh.add_worksheet(worksheet_name, rows=\"100\", cols=\"20\") # Adjust rows/cols as needed\n",
        "\n",
        "# # --- ADD THIS LINE TO CLEAR THE SHEET ---\n",
        "# worksheet.clear()\n",
        "# print(f\"Worksheet '{worksheet_name}' in '{spreadsheet_name}' cleared.\")\n",
        "# # --- END OF ADDITION ---\n",
        "\n",
        "# from gspread_dataframe import set_with_dataframe\n",
        "# set_with_dataframe(worksheet, laps_with_sessions, include_index=True, include_column_header=True) # Set include_index=True if you want to export the DataFrame index\n",
        "\n",
        "# print(f\"Data exported to: https://docs.google.com/spreadsheets/d/{sh.id}/edit#gid={worksheet.id}\")"
      ],
      "metadata": {
        "id": "HMC-GUcOE2TJ"
      },
      "execution_count": 19,
      "outputs": []
    },
    {
      "cell_type": "code",
      "source": [],
      "metadata": {
        "id": "fn0qMKsIoYWA"
      },
      "execution_count": 19,
      "outputs": []
    }
  ]
}