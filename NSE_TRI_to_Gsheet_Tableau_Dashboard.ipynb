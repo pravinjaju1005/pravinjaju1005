{
  "nbformat": 4,
  "nbformat_minor": 0,
  "metadata": {
    "colab": {
      "provenance": [],
      "authorship_tag": "ABX9TyMoiUC5MWl+5Put+Ej3r2+m",
      "include_colab_link": true
    },
    "kernelspec": {
      "name": "python3",
      "display_name": "Python 3"
    },
    "language_info": {
      "name": "python"
    }
  },
  "cells": [
    {
      "cell_type": "markdown",
      "metadata": {
        "id": "view-in-github",
        "colab_type": "text"
      },
      "source": [
        "<a href=\"https://colab.research.google.com/github/pravinjaju1005/pravinjaju1005/blob/main/NSE_TRI_to_Gsheet_Tableau_Dashboard.ipynb\" target=\"_parent\"><img src=\"https://colab.research.google.com/assets/colab-badge.svg\" alt=\"Open In Colab\"/></a>"
      ]
    },
    {
      "cell_type": "markdown",
      "source": [
        "# Pre-requisites"
      ],
      "metadata": {
        "id": "bdzq1gMeK6mr"
      }
    },
    {
      "cell_type": "markdown",
      "source": [
        "## Installing and Importing required Libraries"
      ],
      "metadata": {
        "id": "rBFhVRtLLAwm"
      }
    },
    {
      "cell_type": "code",
      "execution_count": null,
      "metadata": {
        "id": "rOWmESDNEElG"
      },
      "outputs": [],
      "source": [
        "!pip install -q gspread\n",
        "!pip install -q gspread-dataframe\n",
        "!pip install -q nsepython"
      ]
    },
    {
      "cell_type": "code",
      "source": [
        "from nsepython import index_total_returns\n",
        "from datetime import datetime\n",
        "import pandas as pd"
      ],
      "metadata": {
        "id": "687DbKIfFh3A"
      },
      "execution_count": null,
      "outputs": []
    },
    {
      "cell_type": "markdown",
      "source": [
        "## Authentications for connecting to Google Sheets"
      ],
      "metadata": {
        "id": "-cdBKjxrLJc6"
      }
    },
    {
      "cell_type": "code",
      "source": [
        "from google.colab import auth\n",
        "auth.authenticate_user()\n",
        "\n",
        "import gspread\n",
        "from google.auth import default\n",
        "creds, _ = default()\n",
        "gc = gspread.authorize(creds)"
      ],
      "metadata": {
        "id": "_VfQqPlEEZLq"
      },
      "execution_count": null,
      "outputs": []
    },
    {
      "cell_type": "markdown",
      "source": [
        "# NSE TRI Data Extraction"
      ],
      "metadata": {
        "id": "1Fbr_pXWKbdB"
      }
    },
    {
      "cell_type": "code",
      "source": [
        "# Getting all Index Values in a List\n",
        "\n",
        "def fetch_index_symbols(date: str):\n",
        "    url = f\"https://archives.nseindia.com/content/indices/ind_close_all_{date}.csv\"\n",
        "    try:\n",
        "        df = pd.read_csv(url)\n",
        "        # Extract unique index symbols\n",
        "        symbols = df['Index Name'].dropna().unique().tolist()\n",
        "        return symbols\n",
        "    except Exception as e:\n",
        "        print(f\"❌ Failed to fetch for {date}: {e}\")\n",
        "        return []\n",
        "\n",
        "# Example usage\n",
        "date = \"01012025\"  # 1st Jan 2025\n",
        "index_symbols = fetch_index_symbols(date)"
      ],
      "metadata": {
        "id": "fKTTqUb1cBgk"
      },
      "execution_count": null,
      "outputs": []
    },
    {
      "cell_type": "code",
      "source": [
        "# Getting TRI Values for all the index\n",
        "\n",
        "start_str = \"2005-01-01\"\n",
        "# end_str   = \"2025-06-27\"\n",
        "end_str   = datetime.now().strftime('%Y-%m-%d')\n",
        "\n",
        "start_date_formatted = datetime.strptime(start_str, '%Y-%m-%d').strftime(\"%d-%b-%Y\")\n",
        "end_date_formatted = datetime.strptime(end_str, '%Y-%m-%d').strftime(\"%d-%b-%Y\")\n",
        "\n",
        "all_raw_dfs = []\n",
        "for index_sym in index_symbols:\n",
        "    try:\n",
        "        df_single_index = index_total_returns(index_sym, start_date_formatted, end_date_formatted)\n",
        "        if df_single_index is not None and not df_single_index.empty:\n",
        "            all_raw_dfs.append(df_single_index)\n",
        "    except Exception:\n",
        "        pass\n",
        "\n",
        "if not all_raw_dfs:\n",
        "    print(\"No data could be fetched for any index.\")\n",
        "else:\n",
        "    combined_raw_df = pd.concat(all_raw_dfs, ignore_index=True)\n",
        "\n",
        "    combined_raw_df['Date'] = pd.to_datetime(combined_raw_df['Date'], errors='coerce')\n",
        "    combined_raw_df['TotalReturnsIndex'] = pd.to_numeric(combined_raw_df['TotalReturnsIndex'], errors='coerce')\n",
        "    combined_raw_df.dropna(subset=['Date', 'TotalReturnsIndex'], inplace=True)\n",
        "\n",
        "    pivoted_df = combined_raw_df.pivot_table(index='Date', columns='Index Name', values='TotalReturnsIndex')\n",
        "    pivoted_df.sort_index(ascending=False, inplace=True)"
      ],
      "metadata": {
        "id": "sLsu4wRRcB6N"
      },
      "execution_count": null,
      "outputs": []
    },
    {
      "cell_type": "code",
      "source": [
        "pivoted_df_reset = pivoted_df.reset_index()\n",
        "\n",
        "transformed_df = pivoted_df_reset.melt(id_vars=['Date'], var_name='Index Name', value_name='TotalReturnsIndex')\n",
        "\n",
        "# Sort by Date (ascending is usually better for Tableau line charts)\n",
        "transformed_df.sort_values(by='Date', ascending=True, inplace=True)"
      ],
      "metadata": {
        "id": "tZUvOoNiePA4"
      },
      "execution_count": null,
      "outputs": []
    },
    {
      "cell_type": "code",
      "source": [
        "transformed_df.head()"
      ],
      "metadata": {
        "id": "Bpg-KaSvwkPs",
        "outputId": "f765c973-765f-4c7b-9b2d-a261003b6ffa",
        "colab": {
          "base_uri": "https://localhost:8080/",
          "height": 206
        }
      },
      "execution_count": null,
      "outputs": [
        {
          "output_type": "execute_result",
          "data": {
            "text/plain": [
              "             Date                                         Index Name  \\\n",
              "422137 2005-01-03                                   Nifty500 Shariah   \n",
              "178009 2005-01-03                                          Nifty IPO   \n",
              "244127 2005-01-03          Nifty MidSmallcap400 Momentum Quality 100   \n",
              "381449 2005-01-03                                    Nifty50 Shariah   \n",
              "208525 2005-01-03  Nifty India Corporate Group Index - Tata Group...   \n",
              "\n",
              "        TotalReturnsIndex  \n",
              "422137                NaN  \n",
              "178009                NaN  \n",
              "244127                NaN  \n",
              "381449                NaN  \n",
              "208525                NaN  "
            ],
            "text/html": [
              "\n",
              "  <div id=\"df-5332f7b7-67c7-4325-a069-f273c12b6c28\" class=\"colab-df-container\">\n",
              "    <div>\n",
              "<style scoped>\n",
              "    .dataframe tbody tr th:only-of-type {\n",
              "        vertical-align: middle;\n",
              "    }\n",
              "\n",
              "    .dataframe tbody tr th {\n",
              "        vertical-align: top;\n",
              "    }\n",
              "\n",
              "    .dataframe thead th {\n",
              "        text-align: right;\n",
              "    }\n",
              "</style>\n",
              "<table border=\"1\" class=\"dataframe\">\n",
              "  <thead>\n",
              "    <tr style=\"text-align: right;\">\n",
              "      <th></th>\n",
              "      <th>Date</th>\n",
              "      <th>Index Name</th>\n",
              "      <th>TotalReturnsIndex</th>\n",
              "    </tr>\n",
              "  </thead>\n",
              "  <tbody>\n",
              "    <tr>\n",
              "      <th>422137</th>\n",
              "      <td>2005-01-03</td>\n",
              "      <td>Nifty500 Shariah</td>\n",
              "      <td>NaN</td>\n",
              "    </tr>\n",
              "    <tr>\n",
              "      <th>178009</th>\n",
              "      <td>2005-01-03</td>\n",
              "      <td>Nifty IPO</td>\n",
              "      <td>NaN</td>\n",
              "    </tr>\n",
              "    <tr>\n",
              "      <th>244127</th>\n",
              "      <td>2005-01-03</td>\n",
              "      <td>Nifty MidSmallcap400 Momentum Quality 100</td>\n",
              "      <td>NaN</td>\n",
              "    </tr>\n",
              "    <tr>\n",
              "      <th>381449</th>\n",
              "      <td>2005-01-03</td>\n",
              "      <td>Nifty50 Shariah</td>\n",
              "      <td>NaN</td>\n",
              "    </tr>\n",
              "    <tr>\n",
              "      <th>208525</th>\n",
              "      <td>2005-01-03</td>\n",
              "      <td>Nifty India Corporate Group Index - Tata Group...</td>\n",
              "      <td>NaN</td>\n",
              "    </tr>\n",
              "  </tbody>\n",
              "</table>\n",
              "</div>\n",
              "    <div class=\"colab-df-buttons\">\n",
              "\n",
              "  <div class=\"colab-df-container\">\n",
              "    <button class=\"colab-df-convert\" onclick=\"convertToInteractive('df-5332f7b7-67c7-4325-a069-f273c12b6c28')\"\n",
              "            title=\"Convert this dataframe to an interactive table.\"\n",
              "            style=\"display:none;\">\n",
              "\n",
              "  <svg xmlns=\"http://www.w3.org/2000/svg\" height=\"24px\" viewBox=\"0 -960 960 960\">\n",
              "    <path d=\"M120-120v-720h720v720H120Zm60-500h600v-160H180v160Zm220 220h160v-160H400v160Zm0 220h160v-160H400v160ZM180-400h160v-160H180v160Zm440 0h160v-160H620v160ZM180-180h160v-160H180v160Zm440 0h160v-160H620v160Z\"/>\n",
              "  </svg>\n",
              "    </button>\n",
              "\n",
              "  <style>\n",
              "    .colab-df-container {\n",
              "      display:flex;\n",
              "      gap: 12px;\n",
              "    }\n",
              "\n",
              "    .colab-df-convert {\n",
              "      background-color: #E8F0FE;\n",
              "      border: none;\n",
              "      border-radius: 50%;\n",
              "      cursor: pointer;\n",
              "      display: none;\n",
              "      fill: #1967D2;\n",
              "      height: 32px;\n",
              "      padding: 0 0 0 0;\n",
              "      width: 32px;\n",
              "    }\n",
              "\n",
              "    .colab-df-convert:hover {\n",
              "      background-color: #E2EBFA;\n",
              "      box-shadow: 0px 1px 2px rgba(60, 64, 67, 0.3), 0px 1px 3px 1px rgba(60, 64, 67, 0.15);\n",
              "      fill: #174EA6;\n",
              "    }\n",
              "\n",
              "    .colab-df-buttons div {\n",
              "      margin-bottom: 4px;\n",
              "    }\n",
              "\n",
              "    [theme=dark] .colab-df-convert {\n",
              "      background-color: #3B4455;\n",
              "      fill: #D2E3FC;\n",
              "    }\n",
              "\n",
              "    [theme=dark] .colab-df-convert:hover {\n",
              "      background-color: #434B5C;\n",
              "      box-shadow: 0px 1px 3px 1px rgba(0, 0, 0, 0.15);\n",
              "      filter: drop-shadow(0px 1px 2px rgba(0, 0, 0, 0.3));\n",
              "      fill: #FFFFFF;\n",
              "    }\n",
              "  </style>\n",
              "\n",
              "    <script>\n",
              "      const buttonEl =\n",
              "        document.querySelector('#df-5332f7b7-67c7-4325-a069-f273c12b6c28 button.colab-df-convert');\n",
              "      buttonEl.style.display =\n",
              "        google.colab.kernel.accessAllowed ? 'block' : 'none';\n",
              "\n",
              "      async function convertToInteractive(key) {\n",
              "        const element = document.querySelector('#df-5332f7b7-67c7-4325-a069-f273c12b6c28');\n",
              "        const dataTable =\n",
              "          await google.colab.kernel.invokeFunction('convertToInteractive',\n",
              "                                                    [key], {});\n",
              "        if (!dataTable) return;\n",
              "\n",
              "        const docLinkHtml = 'Like what you see? Visit the ' +\n",
              "          '<a target=\"_blank\" href=https://colab.research.google.com/notebooks/data_table.ipynb>data table notebook</a>'\n",
              "          + ' to learn more about interactive tables.';\n",
              "        element.innerHTML = '';\n",
              "        dataTable['output_type'] = 'display_data';\n",
              "        await google.colab.output.renderOutput(dataTable, element);\n",
              "        const docLink = document.createElement('div');\n",
              "        docLink.innerHTML = docLinkHtml;\n",
              "        element.appendChild(docLink);\n",
              "      }\n",
              "    </script>\n",
              "  </div>\n",
              "\n",
              "\n",
              "    <div id=\"df-cd38777c-9757-45db-bb23-44a86b7bd249\">\n",
              "      <button class=\"colab-df-quickchart\" onclick=\"quickchart('df-cd38777c-9757-45db-bb23-44a86b7bd249')\"\n",
              "                title=\"Suggest charts\"\n",
              "                style=\"display:none;\">\n",
              "\n",
              "<svg xmlns=\"http://www.w3.org/2000/svg\" height=\"24px\"viewBox=\"0 0 24 24\"\n",
              "     width=\"24px\">\n",
              "    <g>\n",
              "        <path d=\"M19 3H5c-1.1 0-2 .9-2 2v14c0 1.1.9 2 2 2h14c1.1 0 2-.9 2-2V5c0-1.1-.9-2-2-2zM9 17H7v-7h2v7zm4 0h-2V7h2v10zm4 0h-2v-4h2v4z\"/>\n",
              "    </g>\n",
              "</svg>\n",
              "      </button>\n",
              "\n",
              "<style>\n",
              "  .colab-df-quickchart {\n",
              "      --bg-color: #E8F0FE;\n",
              "      --fill-color: #1967D2;\n",
              "      --hover-bg-color: #E2EBFA;\n",
              "      --hover-fill-color: #174EA6;\n",
              "      --disabled-fill-color: #AAA;\n",
              "      --disabled-bg-color: #DDD;\n",
              "  }\n",
              "\n",
              "  [theme=dark] .colab-df-quickchart {\n",
              "      --bg-color: #3B4455;\n",
              "      --fill-color: #D2E3FC;\n",
              "      --hover-bg-color: #434B5C;\n",
              "      --hover-fill-color: #FFFFFF;\n",
              "      --disabled-bg-color: #3B4455;\n",
              "      --disabled-fill-color: #666;\n",
              "  }\n",
              "\n",
              "  .colab-df-quickchart {\n",
              "    background-color: var(--bg-color);\n",
              "    border: none;\n",
              "    border-radius: 50%;\n",
              "    cursor: pointer;\n",
              "    display: none;\n",
              "    fill: var(--fill-color);\n",
              "    height: 32px;\n",
              "    padding: 0;\n",
              "    width: 32px;\n",
              "  }\n",
              "\n",
              "  .colab-df-quickchart:hover {\n",
              "    background-color: var(--hover-bg-color);\n",
              "    box-shadow: 0 1px 2px rgba(60, 64, 67, 0.3), 0 1px 3px 1px rgba(60, 64, 67, 0.15);\n",
              "    fill: var(--button-hover-fill-color);\n",
              "  }\n",
              "\n",
              "  .colab-df-quickchart-complete:disabled,\n",
              "  .colab-df-quickchart-complete:disabled:hover {\n",
              "    background-color: var(--disabled-bg-color);\n",
              "    fill: var(--disabled-fill-color);\n",
              "    box-shadow: none;\n",
              "  }\n",
              "\n",
              "  .colab-df-spinner {\n",
              "    border: 2px solid var(--fill-color);\n",
              "    border-color: transparent;\n",
              "    border-bottom-color: var(--fill-color);\n",
              "    animation:\n",
              "      spin 1s steps(1) infinite;\n",
              "  }\n",
              "\n",
              "  @keyframes spin {\n",
              "    0% {\n",
              "      border-color: transparent;\n",
              "      border-bottom-color: var(--fill-color);\n",
              "      border-left-color: var(--fill-color);\n",
              "    }\n",
              "    20% {\n",
              "      border-color: transparent;\n",
              "      border-left-color: var(--fill-color);\n",
              "      border-top-color: var(--fill-color);\n",
              "    }\n",
              "    30% {\n",
              "      border-color: transparent;\n",
              "      border-left-color: var(--fill-color);\n",
              "      border-top-color: var(--fill-color);\n",
              "      border-right-color: var(--fill-color);\n",
              "    }\n",
              "    40% {\n",
              "      border-color: transparent;\n",
              "      border-right-color: var(--fill-color);\n",
              "      border-top-color: var(--fill-color);\n",
              "    }\n",
              "    60% {\n",
              "      border-color: transparent;\n",
              "      border-right-color: var(--fill-color);\n",
              "    }\n",
              "    80% {\n",
              "      border-color: transparent;\n",
              "      border-right-color: var(--fill-color);\n",
              "      border-bottom-color: var(--fill-color);\n",
              "    }\n",
              "    90% {\n",
              "      border-color: transparent;\n",
              "      border-bottom-color: var(--fill-color);\n",
              "    }\n",
              "  }\n",
              "</style>\n",
              "\n",
              "      <script>\n",
              "        async function quickchart(key) {\n",
              "          const quickchartButtonEl =\n",
              "            document.querySelector('#' + key + ' button');\n",
              "          quickchartButtonEl.disabled = true;  // To prevent multiple clicks.\n",
              "          quickchartButtonEl.classList.add('colab-df-spinner');\n",
              "          try {\n",
              "            const charts = await google.colab.kernel.invokeFunction(\n",
              "                'suggestCharts', [key], {});\n",
              "          } catch (error) {\n",
              "            console.error('Error during call to suggestCharts:', error);\n",
              "          }\n",
              "          quickchartButtonEl.classList.remove('colab-df-spinner');\n",
              "          quickchartButtonEl.classList.add('colab-df-quickchart-complete');\n",
              "        }\n",
              "        (() => {\n",
              "          let quickchartButtonEl =\n",
              "            document.querySelector('#df-cd38777c-9757-45db-bb23-44a86b7bd249 button');\n",
              "          quickchartButtonEl.style.display =\n",
              "            google.colab.kernel.accessAllowed ? 'block' : 'none';\n",
              "        })();\n",
              "      </script>\n",
              "    </div>\n",
              "\n",
              "    </div>\n",
              "  </div>\n"
            ],
            "application/vnd.google.colaboratory.intrinsic+json": {
              "type": "dataframe",
              "variable_name": "transformed_df"
            }
          },
          "metadata": {},
          "execution_count": 11
        }
      ]
    },
    {
      "cell_type": "markdown",
      "source": [
        "# Extracting Data to Google Sheet"
      ],
      "metadata": {
        "id": "46QYn_cEKohY"
      }
    },
    {
      "cell_type": "code",
      "source": [
        "# spreadsheet_name = 'NSE TRI Data 2025' # Replace with your sheet's name\n",
        "# worksheet_name = 'Sheet1' # Replace with your desired worksheet name\n",
        "\n",
        "# try:\n",
        "#     sh = gc.open(spreadsheet_name)\n",
        "#     worksheet = sh.worksheet(worksheet_name)\n",
        "# except gspread.exceptions.SpreadsheetNotFound:\n",
        "#     print(f\"Spreadsheet '{spreadsheet_name}' not found. Please create it or check the name.\")\n",
        "#     # You might want to create it here if it's not found:\n",
        "#     # sh = gc.create(spreadsheet_name)\n",
        "#     # worksheet = sh.sheet1\n",
        "# except gspread.exceptions.WorksheetNotFound:\n",
        "#     print(f\"Worksheet '{worksheet_name}' not found in '{spreadsheet_name}'. Creating new worksheet.\")\n",
        "#     worksheet = sh.add_worksheet(worksheet_name, rows=\"100\", cols=\"20\") # Adjust rows/cols as needed\n",
        "\n",
        "# worksheet.clear()\n",
        "# print(f\"Worksheet '{worksheet_name}' in '{spreadsheet_name}' cleared.\")\n",
        "\n",
        "# from gspread_dataframe import set_with_dataframe\n",
        "# set_with_dataframe(worksheet, pivoted_df, include_index=False, include_column_header=True) # Set include_index=True if you want to export the DataFrame index\n",
        "\n",
        "# print(f\"Data exported to: https://docs.google.com/spreadsheets/d/{sh.id}/edit#gid={worksheet.id}\")"
      ],
      "metadata": {
        "id": "O-ElU7wGEoVJ"
      },
      "execution_count": null,
      "outputs": []
    },
    {
      "cell_type": "code",
      "source": [],
      "metadata": {
        "id": "uqkHhpOFuuVU"
      },
      "execution_count": null,
      "outputs": []
    },
    {
      "cell_type": "code",
      "source": [
        "# Data for viewing\n",
        "spreadsheet_name = 'NSE TRI Data 2025' # Replace with your sheet's name\n",
        "worksheet_name = 'Sheet1' # Replace with your desired worksheet name\n",
        "\n",
        "try:\n",
        "    sh = gc.open(spreadsheet_name)\n",
        "    worksheet = sh.worksheet(worksheet_name)\n",
        "except gspread.exceptions.SpreadsheetNotFound:\n",
        "    print(f\"Spreadsheet '{spreadsheet_name}' not found. Creating a new spreadsheet.\")\n",
        "    sh = gc.create(spreadsheet_name)\n",
        "    # When you create a new spreadsheet, it automatically has a 'Sheet1'.\n",
        "    # We'll try to get it, or add if for some reason it's not named 'Sheet1' or we want a different name.\n",
        "    try:\n",
        "        worksheet = sh.worksheet(worksheet_name)\n",
        "    except gspread.exceptions.WorksheetNotFound:\n",
        "        print(f\"Worksheet '{worksheet_name}' not found in new spreadsheet. Creating it.\")\n",
        "        worksheet = sh.add_worksheet(worksheet_name, rows=\"100\", cols=\"20\") # Adjust rows/cols as needed\n",
        "except gspread.exceptions.WorksheetNotFound:\n",
        "    print(f\"Worksheet '{worksheet_name}' not found in '{spreadsheet_name}'. Creating new worksheet.\")\n",
        "    worksheet = sh.add_worksheet(worksheet_name, rows=\"100\", cols=\"20\") # Adjust rows/cols as needed\n",
        "\n",
        "# --- ADD THIS LINE TO CLEAR THE SHEET ---\n",
        "worksheet.clear()\n",
        "print(f\"Worksheet '{worksheet_name}' in '{spreadsheet_name}' cleared.\")\n",
        "# --- END OF ADDITION ---\n",
        "\n",
        "from gspread_dataframe import set_with_dataframe\n",
        "set_with_dataframe(worksheet, pivoted_df, include_index=True, include_column_header=True) # Set include_index=True if you want to export the DataFrame index\n",
        "\n",
        "print(f\"Data exported to: https://docs.google.com/spreadsheets/d/{sh.id}/edit#gid={worksheet.id}\")"
      ],
      "metadata": {
        "id": "8BQIgv7Wdc_T",
        "colab": {
          "base_uri": "https://localhost:8080/"
        },
        "outputId": "a12b63e7-4e98-4576-89f2-a1e7821eb56d"
      },
      "execution_count": null,
      "outputs": [
        {
          "output_type": "stream",
          "name": "stdout",
          "text": [
            "Worksheet 'Sheet1' in 'NSE TRI Data 2025' cleared.\n",
            "Data exported to: https://docs.google.com/spreadsheets/d/1a_o8cKfZAUwE_F_WbkMSYeGHDdkH_2E0Rj9wpNwvwrc/edit#gid=0\n"
          ]
        }
      ]
    },
    {
      "cell_type": "code",
      "source": [
        "# Data for Dashboard\n",
        "spreadsheet_name = 'NSE TRI Data Dashboard' # Replace with your sheet's name\n",
        "worksheet_name = 'Sheet1' # Replace with your desired worksheet name\n",
        "\n",
        "try:\n",
        "    sh = gc.open(spreadsheet_name)\n",
        "    worksheet = sh.worksheet(worksheet_name)\n",
        "except gspread.exceptions.SpreadsheetNotFound:\n",
        "    print(f\"Spreadsheet '{spreadsheet_name}' not found. Creating a new spreadsheet.\")\n",
        "    sh = gc.create(spreadsheet_name)\n",
        "    # When you create a new spreadsheet, it automatically has a 'Sheet1'.\n",
        "    # We'll try to get it, or add if for some reason it's not named 'Sheet1' or we want a different name.\n",
        "    try:\n",
        "        worksheet = sh.worksheet(worksheet_name)\n",
        "    except gspread.exceptions.WorksheetNotFound:\n",
        "        print(f\"Worksheet '{worksheet_name}' not found in new spreadsheet. Creating it.\")\n",
        "        worksheet = sh.add_worksheet(worksheet_name, rows=\"100\", cols=\"20\") # Adjust rows/cols as needed\n",
        "except gspread.exceptions.WorksheetNotFound:\n",
        "    print(f\"Worksheet '{worksheet_name}' not found in '{spreadsheet_name}'. Creating new worksheet.\")\n",
        "    worksheet = sh.add_worksheet(worksheet_name, rows=\"100\", cols=\"20\") # Adjust rows/cols as needed\n",
        "\n",
        "# --- ADD THIS LINE TO CLEAR THE SHEET ---\n",
        "worksheet.clear()\n",
        "print(f\"Worksheet '{worksheet_name}' in '{spreadsheet_name}' cleared.\")\n",
        "# --- END OF ADDITION ---\n",
        "\n",
        "from gspread_dataframe import set_with_dataframe\n",
        "set_with_dataframe(worksheet, transformed_df, include_index=True, include_column_header=True) # Set include_index=True if you want to export the DataFrame index\n",
        "\n",
        "print(f\"Data exported to: https://docs.google.com/spreadsheets/d/{sh.id}/edit#gid={worksheet.id}\")"
      ],
      "metadata": {
        "id": "7IcwOUsefDQW",
        "colab": {
          "base_uri": "https://localhost:8080/"
        },
        "outputId": "ce9d04d2-cd79-4877-9c15-f79d36ff2c6c"
      },
      "execution_count": null,
      "outputs": [
        {
          "output_type": "stream",
          "name": "stdout",
          "text": [
            "Spreadsheet 'NSE TRI Data Dashboard' not found. Creating a new spreadsheet.\n",
            "Worksheet 'Sheet1' in 'NSE TRI Data Dashboard' cleared.\n",
            "Data exported to: https://docs.google.com/spreadsheets/d/1BXM4Z04y-g9XLvMqEJOITkXK_vEfwsYaiAngVcW-X7I/edit#gid=0\n"
          ]
        }
      ]
    }
  ]
}